{
 "cells": [
  {
   "cell_type": "code",
   "source": [
    "# Импортируем другие библиотеки, а также их составляющие\n",
    "import pandas as pd\n",
    "import numpy as np\n",
    "import datetime\n",
    "import random\n",
    "import statistics\n",
    "import seaborn as sns\n",
    "\n",
    "\n",
    "from catboost import CatBoostClassifier\n",
    "from sklearn.model_selection import train_test_split\n",
    "from sklearn.utils import shuffle"
   ],
   "metadata": {
    "colab": {
     "base_uri": "https://localhost:8080/"
    },
    "id": "El_YcVz4EyIY",
    "outputId": "198cecf8-06ad-428e-92f6-f45372f774db"
   },
   "execution_count": 148,
   "outputs": [
    {
     "output_type": "stream",
     "name": "stdout",
     "text": [
      "Requirement already satisfied: catboost in /usr/local/lib/python3.10/dist-packages (1.2.5)\n",
      "Requirement already satisfied: graphviz in /usr/local/lib/python3.10/dist-packages (from catboost) (0.20.3)\n",
      "Requirement already satisfied: matplotlib in /usr/local/lib/python3.10/dist-packages (from catboost) (3.7.1)\n",
      "Requirement already satisfied: numpy>=1.16.0 in /usr/local/lib/python3.10/dist-packages (from catboost) (1.25.2)\n",
      "Requirement already satisfied: pandas>=0.24 in /usr/local/lib/python3.10/dist-packages (from catboost) (2.0.3)\n",
      "Requirement already satisfied: scipy in /usr/local/lib/python3.10/dist-packages (from catboost) (1.11.4)\n",
      "Requirement already satisfied: plotly in /usr/local/lib/python3.10/dist-packages (from catboost) (5.15.0)\n",
      "Requirement already satisfied: six in /usr/local/lib/python3.10/dist-packages (from catboost) (1.16.0)\n",
      "Requirement already satisfied: python-dateutil>=2.8.2 in /usr/local/lib/python3.10/dist-packages (from pandas>=0.24->catboost) (2.8.2)\n",
      "Requirement already satisfied: pytz>=2020.1 in /usr/local/lib/python3.10/dist-packages (from pandas>=0.24->catboost) (2023.4)\n",
      "Requirement already satisfied: tzdata>=2022.1 in /usr/local/lib/python3.10/dist-packages (from pandas>=0.24->catboost) (2024.1)\n",
      "Requirement already satisfied: contourpy>=1.0.1 in /usr/local/lib/python3.10/dist-packages (from matplotlib->catboost) (1.2.1)\n",
      "Requirement already satisfied: cycler>=0.10 in /usr/local/lib/python3.10/dist-packages (from matplotlib->catboost) (0.12.1)\n",
      "Requirement already satisfied: fonttools>=4.22.0 in /usr/local/lib/python3.10/dist-packages (from matplotlib->catboost) (4.51.0)\n",
      "Requirement already satisfied: kiwisolver>=1.0.1 in /usr/local/lib/python3.10/dist-packages (from matplotlib->catboost) (1.4.5)\n",
      "Requirement already satisfied: packaging>=20.0 in /usr/local/lib/python3.10/dist-packages (from matplotlib->catboost) (24.0)\n",
      "Requirement already satisfied: pillow>=6.2.0 in /usr/local/lib/python3.10/dist-packages (from matplotlib->catboost) (9.4.0)\n",
      "Requirement already satisfied: pyparsing>=2.3.1 in /usr/local/lib/python3.10/dist-packages (from matplotlib->catboost) (3.1.2)\n",
      "Requirement already satisfied: tenacity>=6.2.0 in /usr/local/lib/python3.10/dist-packages (from plotly->catboost) (8.3.0)\n"
     ]
    }
   ]
  },
  {
   "cell_type": "code",
   "source": [
    "# dataset_for_training - датасет, на котором наша модель будет обучаться\n",
    "dataset_for_training = pd.read_csv('dataset.csv', sep = ',')\n",
    "# dataset_for_predicting - датасет, на котором наша модель будет делать предсказания\n",
    "dataset_for_predicting = pd.read_csv('dataset.csv', sep = ',')\n",
    "# submission_example - датасет, из которого мы узнаем для каких людей нужно сделать предсказание\n",
    "submission_example = pd.read_csv('submission_example.csv', sep = ',')\n",
    "# SIZE - размер массивов с информацией о каждом партнёре. Размер выбран более 333515, чтобы мы могли обратиться в него по любому возможному pin-у\n",
    "SIZE = 333515 + 420\n",
    "# ALL_PEOPLE - pin-ы всех людей\n",
    "ALL_PEOPLE = set(dataset_for_training.clientbankpartner_pin.values)"
   ],
   "metadata": {
    "id": "_gNQrQp8hl3t"
   },
   "execution_count": 149,
   "outputs": []
  },
  {
   "cell_type": "markdown",
   "source": [
    "------------------\n",
    "Создадим датасет для обучение"
   ],
   "metadata": {
    "id": "ons0ubjEhe1J"
   }
  },
  {
   "cell_type": "code",
   "source": [
    "# SCORE - массив, в котором хранится вероятность оттока для каждого из партнёров\n",
    "SCORE = [1] * SIZE\n",
    "# CNT - массив, в котором хранится кол-во приведённых клиентов для каждого из партнёров\n",
    "CNT = [0] * SIZE\n",
    "# OFFLINE - массив, в котором хранится кол-во дней, прошедших с момента последного приглашения и до последнего для замера данных, для каждого из партнёров\n",
    "OFFLINE = [100000000000000000] * SIZE\n",
    "# CLIENTS - массив, в котором для каждого партнёра хранятся pin-ы клиентов, которых он пригласил\n",
    "CLIENTS = [[] for i in range(SIZE)]\n",
    "# DATES - массив, в котором хранятся все даты приглашения новых клиентов для каждого из партнёров\n",
    "DATES = [[] for i in range(SIZE)]\n",
    "# AVERAGE - массив, в котором хранится среднее кол-во дней между приглашениями новых клиентов для каждого из партнёров\n",
    "AVERAGE = [0] * SIZE\n",
    "# MEDIAN - массив, в котором хранится медианное значение кол-ва дней между приглашениями новых клиентов для каждого из партнёров\n",
    "MEDIAN = [0] * SIZE\n",
    "# DISPERSION - массив, в котором хранится дисперсия значений кол-ва дней между приглашениями новых клиентов для каждого из партнёров\n",
    "DISPERSION = [0] * SIZE\n",
    "# PARTNER_START - массив, в котором хранится дата начала сотрудничества с Alfа банком для каждого из партнёров\n",
    "PARTNER_START = [''] * SIZE\n",
    "# PARTNER_TIME - массив, в котором хранится кол-во дней, которые человек сотрудничает с Alfa банком, для каждого из партнёров\n",
    "PARTNER_TIME = [0] * SIZE"
   ],
   "metadata": {
    "id": "CrIvdpKbhgy6"
   },
   "execution_count": 150,
   "outputs": []
  },
  {
   "cell_type": "code",
   "source": [
    "# to_del - массив индексов строк, в которых содержатся дубликаты вида (x1, y1), (x2, y2), x1==x2 and y1==y2\n",
    "to_del = []\n",
    "for i in range(dataset_for_training.shape[0]): # Проходимся по всем строкам датасета для обучения\n",
    "  # partner - pin текущего партнёра\n",
    "  partner = dataset_for_training.clientbankpartner_pin[i]\n",
    "  # client - pin клиента, которого пригласил текущий партнёр\n",
    "  client = dataset_for_training.client_pin[i]\n",
    "  if client in CLIENTS[partner]: # Если партнёр уже приглашал этого клиента, то нужно удалить текущую строчку\n",
    "    to_del.append(i)\n",
    "  else: # В противном случае запоминаем, что наш партнёр пригласил клиента с pin-ом (client)\n",
    "    CLIENTS[partner].append(client)\n",
    "for idx in to_del: # Проходимся по всем индексам ненужных строк и удаляем их\n",
    "  dataset_for_training = dataset_for_training.drop(idx, axis=0)\n",
    "# Возвращаем индексы к корректным значениям\n",
    "dataset_for_training = dataset_for_training.reset_index()\n",
    "dataset_for_training = dataset_for_training.drop(['index'], axis=1)"
   ],
   "metadata": {
    "id": "EwcTXvMsh14I"
   },
   "execution_count": 151,
   "outputs": []
  },
  {
   "cell_type": "code",
   "source": [
    "for i in range(dataset_for_training.shape[0]): # Проходимся по всем строкам датасета для обучения\n",
    "  # partner - pin текущего партнёра\n",
    "  partner = dataset_for_training.clientbankpartner_pin[i]\n",
    "  # client - pin клиента, которого пригласил текущий партнёр\n",
    "  client = dataset_for_training.client_pin[i]\n",
    "  # client_date - дата приглашения партнёром клиента\n",
    "  client_date = dataset_for_training.client_start_date[i]\n",
    "  if \"2020-06-01\" <= client_date < \"2020-09-01\": # Если партнёр пригласил клиента в следующие 3 месяца после окончания замера данных, то указываем, что он не \"оттёк\"\n",
    "    SCORE[partner] = 0\n",
    "  elif client_date < \"2020-06-01\": # Если партнёр пригласил клиента до конца замера данных, то сохраняем эти данные о нём\n",
    "    DATES[partner].append(client_date) # Добавляем текущекму партнёру дату приглашения клиента\n",
    "    CNT[partner] += 1 # Увеличиваем число приглашённых клиентов нашим партнёром\n",
    "    # Пробуем обновить значение кол-ва дней \"бездействия\" нашего партнёра\n",
    "    OFFLINE[partner] = min(OFFLINE[partner], (datetime.datetime.strptime('2020-06-01', '%Y-%m-%d') - datetime.datetime.strptime(str(client_date), '%Y-%m-%d')).days)"
   ],
   "metadata": {
    "id": "pQ3W33jMh4EO"
   },
   "execution_count": 152,
   "outputs": []
  },
  {
   "cell_type": "code",
   "source": [
    "for i in range(dataset_for_training.shape[0]): # Проходимся по всем строкам датасета для обучения\n",
    "  # partner - pin текущего партнёра\n",
    "  partner = dataset_for_training.clientbankpartner_pin[i]\n",
    "  # partner_time - дата начала сотрудничества текущего партнёра с Alfa банком\n",
    "  partner_time = dataset_for_training.partnerrolestart_date[i]\n",
    "  PARTNER_START[partner] = partner_time # Устанавливаем дату сотрудничества текущего партнёра с Alfa банком\n",
    "  # Устанавливаем значение кол-ва дней, которые текущий партнёр сотрудничает с Alfa банком\n",
    "  PARTNER_TIME[partner] = (datetime.datetime.strptime('2020-06-01', '%Y-%m-%d') - datetime.datetime.strptime(str(partner_time), '%Y-%m-%d')).days"
   ],
   "metadata": {
    "id": "CiPaP6JQh7G3"
   },
   "execution_count": 153,
   "outputs": []
  },
  {
   "cell_type": "code",
   "source": [
    "# Удаляем из датасета для обучения больше ненужные колонки\n",
    "dataset_for_training = dataset_for_training.drop(['client_pin', 'client_start_date', 'partnerrolestart_date'], axis=1)\n",
    "# Удаляем дубликаты\n",
    "dataset_for_training = dataset_for_training.drop_duplicates(subset='clientbankpartner_pin', inplace=False)\n",
    "# Приводим индексы строк к корректному виду\n",
    "dataset_for_training = dataset_for_training.reset_index()\n",
    "dataset_for_training = dataset_for_training.drop(['index'], axis=1)"
   ],
   "metadata": {
    "id": "KLpb3pmgh8qU"
   },
   "execution_count": 154,
   "outputs": []
  },
  {
   "cell_type": "code",
   "source": [
    "for partner in ALL_PEOPLE: # Проходимся по pin-ам всех партнёров\n",
    "  # DIFFS - массив дней в промежутках между приглашениями новых клиентов текущим партнёром, + в промежутке [начало сотрудничества; первое приглашение] + в промежутке [последние приглашение; конец замера данных]\n",
    "  DIFFS = []\n",
    "  # Располагаем значения кол-ва дней в промежутках в порядке возрастания\n",
    "  DATES[partner] = sorted(DATES[partner])\n",
    "  # Пропускаем партнёров, которые никого не пригласили, так как подобное невозможно в исходных данных => на подобных людях нет смысла обучать модель\n",
    "  if CNT[partner] == 0:\n",
    "    continue\n",
    "  # Добавляем кол-во дней в промежутке [начало сотрудничества; первое приглашение]\n",
    "  DIFFS.append((datetime.datetime.strptime(DATES[partner][0], '%Y-%m-%d') - datetime.datetime.strptime(PARTNER_START[partner], '%Y-%m-%d')).days)\n",
    "  # Добавляем кол-во дней в промежутке [последние приглашение; конец замера данных]\n",
    "  DIFFS.append((datetime.datetime.strptime('2020-06-01', '%Y-%m-%d') - datetime.datetime.strptime(DATES[partner][0], '%Y-%m-%d')).days)\n",
    "  for i in range(1, len(DATES[partner])): # Проходимся по датам приглашения новых клиентов и добавляем значения кол-ва дней между ближайщими приглашениями\n",
    "    DIFFS.append((datetime.datetime.strptime(str(DATES[partner][i]), '%Y-%m-%d') - datetime.datetime.strptime(str(DATES[partner][i - 1]), '%Y-%m-%d')).days)\n",
    "  AVERAGE[partner] = sum(DIFFS) / len(DIFFS) # Считаем среднее значение по кол-ву дней между приглашениями\n",
    "  MEDIAN[partner] = statistics.median(DIFFS) # Считаем медианное значение по кол-ву дней между приглашениями\n",
    "  DISPERSION[partner] = statistics.variance(DIFFS, AVERAGE[partner]) # Считаем дисперсию по кол-ву дней между приглашениями"
   ],
   "metadata": {
    "id": "TjRS3o3Ph-JC"
   },
   "execution_count": 155,
   "outputs": []
  },
  {
   "cell_type": "code",
   "source": [
    "dataset_for_training"
   ],
   "metadata": {
    "colab": {
     "base_uri": "https://localhost:8080/",
     "height": 424
    },
    "id": "PpYGtHnk5Pk7",
    "outputId": "2d9798c5-6743-49c1-df04-917078d2de89"
   },
   "execution_count": 156,
   "outputs": [
    {
     "output_type": "execute_result",
     "data": {
      "text/plain": [
       "      clientbankpartner_pin  partner_src_type_ccode\n",
       "0                    122027                       4\n",
       "1                    270277                       4\n",
       "2                    238679                       4\n",
       "3                    118398                       4\n",
       "4                     10402                       1\n",
       "...                     ...                     ...\n",
       "9466                 315972                       4\n",
       "9467                   4177                       5\n",
       "9468                 326846                       4\n",
       "9469                   4478                       5\n",
       "9470                 332692                       4\n",
       "\n",
       "[9471 rows x 2 columns]"
      ],
      "text/html": [
       "\n",
       "  <div id=\"df-387b9a13-64af-4b3b-8c88-01deaef4d44e\" class=\"colab-df-container\">\n",
       "    <div>\n",
       "<style scoped>\n",
       "    .dataframe tbody tr th:only-of-type {\n",
       "        vertical-align: middle;\n",
       "    }\n",
       "\n",
       "    .dataframe tbody tr th {\n",
       "        vertical-align: top;\n",
       "    }\n",
       "\n",
       "    .dataframe thead th {\n",
       "        text-align: right;\n",
       "    }\n",
       "</style>\n",
       "<table border=\"1\" class=\"dataframe\">\n",
       "  <thead>\n",
       "    <tr style=\"text-align: right;\">\n",
       "      <th></th>\n",
       "      <th>clientbankpartner_pin</th>\n",
       "      <th>partner_src_type_ccode</th>\n",
       "    </tr>\n",
       "  </thead>\n",
       "  <tbody>\n",
       "    <tr>\n",
       "      <th>0</th>\n",
       "      <td>122027</td>\n",
       "      <td>4</td>\n",
       "    </tr>\n",
       "    <tr>\n",
       "      <th>1</th>\n",
       "      <td>270277</td>\n",
       "      <td>4</td>\n",
       "    </tr>\n",
       "    <tr>\n",
       "      <th>2</th>\n",
       "      <td>238679</td>\n",
       "      <td>4</td>\n",
       "    </tr>\n",
       "    <tr>\n",
       "      <th>3</th>\n",
       "      <td>118398</td>\n",
       "      <td>4</td>\n",
       "    </tr>\n",
       "    <tr>\n",
       "      <th>4</th>\n",
       "      <td>10402</td>\n",
       "      <td>1</td>\n",
       "    </tr>\n",
       "    <tr>\n",
       "      <th>...</th>\n",
       "      <td>...</td>\n",
       "      <td>...</td>\n",
       "    </tr>\n",
       "    <tr>\n",
       "      <th>9466</th>\n",
       "      <td>315972</td>\n",
       "      <td>4</td>\n",
       "    </tr>\n",
       "    <tr>\n",
       "      <th>9467</th>\n",
       "      <td>4177</td>\n",
       "      <td>5</td>\n",
       "    </tr>\n",
       "    <tr>\n",
       "      <th>9468</th>\n",
       "      <td>326846</td>\n",
       "      <td>4</td>\n",
       "    </tr>\n",
       "    <tr>\n",
       "      <th>9469</th>\n",
       "      <td>4478</td>\n",
       "      <td>5</td>\n",
       "    </tr>\n",
       "    <tr>\n",
       "      <th>9470</th>\n",
       "      <td>332692</td>\n",
       "      <td>4</td>\n",
       "    </tr>\n",
       "  </tbody>\n",
       "</table>\n",
       "<p>9471 rows × 2 columns</p>\n",
       "</div>\n",
       "    <div class=\"colab-df-buttons\">\n",
       "\n",
       "  <div class=\"colab-df-container\">\n",
       "    <button class=\"colab-df-convert\" onclick=\"convertToInteractive('df-387b9a13-64af-4b3b-8c88-01deaef4d44e')\"\n",
       "            title=\"Convert this dataframe to an interactive table.\"\n",
       "            style=\"display:none;\">\n",
       "\n",
       "  <svg xmlns=\"http://www.w3.org/2000/svg\" height=\"24px\" viewBox=\"0 -960 960 960\">\n",
       "    <path d=\"M120-120v-720h720v720H120Zm60-500h600v-160H180v160Zm220 220h160v-160H400v160Zm0 220h160v-160H400v160ZM180-400h160v-160H180v160Zm440 0h160v-160H620v160ZM180-180h160v-160H180v160Zm440 0h160v-160H620v160Z\"/>\n",
       "  </svg>\n",
       "    </button>\n",
       "\n",
       "  <style>\n",
       "    .colab-df-container {\n",
       "      display:flex;\n",
       "      gap: 12px;\n",
       "    }\n",
       "\n",
       "    .colab-df-convert {\n",
       "      background-color: #E8F0FE;\n",
       "      border: none;\n",
       "      border-radius: 50%;\n",
       "      cursor: pointer;\n",
       "      display: none;\n",
       "      fill: #1967D2;\n",
       "      height: 32px;\n",
       "      padding: 0 0 0 0;\n",
       "      width: 32px;\n",
       "    }\n",
       "\n",
       "    .colab-df-convert:hover {\n",
       "      background-color: #E2EBFA;\n",
       "      box-shadow: 0px 1px 2px rgba(60, 64, 67, 0.3), 0px 1px 3px 1px rgba(60, 64, 67, 0.15);\n",
       "      fill: #174EA6;\n",
       "    }\n",
       "\n",
       "    .colab-df-buttons div {\n",
       "      margin-bottom: 4px;\n",
       "    }\n",
       "\n",
       "    [theme=dark] .colab-df-convert {\n",
       "      background-color: #3B4455;\n",
       "      fill: #D2E3FC;\n",
       "    }\n",
       "\n",
       "    [theme=dark] .colab-df-convert:hover {\n",
       "      background-color: #434B5C;\n",
       "      box-shadow: 0px 1px 3px 1px rgba(0, 0, 0, 0.15);\n",
       "      filter: drop-shadow(0px 1px 2px rgba(0, 0, 0, 0.3));\n",
       "      fill: #FFFFFF;\n",
       "    }\n",
       "  </style>\n",
       "\n",
       "    <script>\n",
       "      const buttonEl =\n",
       "        document.querySelector('#df-387b9a13-64af-4b3b-8c88-01deaef4d44e button.colab-df-convert');\n",
       "      buttonEl.style.display =\n",
       "        google.colab.kernel.accessAllowed ? 'block' : 'none';\n",
       "\n",
       "      async function convertToInteractive(key) {\n",
       "        const element = document.querySelector('#df-387b9a13-64af-4b3b-8c88-01deaef4d44e');\n",
       "        const dataTable =\n",
       "          await google.colab.kernel.invokeFunction('convertToInteractive',\n",
       "                                                    [key], {});\n",
       "        if (!dataTable) return;\n",
       "\n",
       "        const docLinkHtml = 'Like what you see? Visit the ' +\n",
       "          '<a target=\"_blank\" href=https://colab.research.google.com/notebooks/data_table.ipynb>data table notebook</a>'\n",
       "          + ' to learn more about interactive tables.';\n",
       "        element.innerHTML = '';\n",
       "        dataTable['output_type'] = 'display_data';\n",
       "        await google.colab.output.renderOutput(dataTable, element);\n",
       "        const docLink = document.createElement('div');\n",
       "        docLink.innerHTML = docLinkHtml;\n",
       "        element.appendChild(docLink);\n",
       "      }\n",
       "    </script>\n",
       "  </div>\n",
       "\n",
       "\n",
       "<div id=\"df-433d7073-41ec-4a62-92e4-7a2e25309c95\">\n",
       "  <button class=\"colab-df-quickchart\" onclick=\"quickchart('df-433d7073-41ec-4a62-92e4-7a2e25309c95')\"\n",
       "            title=\"Suggest charts\"\n",
       "            style=\"display:none;\">\n",
       "\n",
       "<svg xmlns=\"http://www.w3.org/2000/svg\" height=\"24px\"viewBox=\"0 0 24 24\"\n",
       "     width=\"24px\">\n",
       "    <g>\n",
       "        <path d=\"M19 3H5c-1.1 0-2 .9-2 2v14c0 1.1.9 2 2 2h14c1.1 0 2-.9 2-2V5c0-1.1-.9-2-2-2zM9 17H7v-7h2v7zm4 0h-2V7h2v10zm4 0h-2v-4h2v4z\"/>\n",
       "    </g>\n",
       "</svg>\n",
       "  </button>\n",
       "\n",
       "<style>\n",
       "  .colab-df-quickchart {\n",
       "      --bg-color: #E8F0FE;\n",
       "      --fill-color: #1967D2;\n",
       "      --hover-bg-color: #E2EBFA;\n",
       "      --hover-fill-color: #174EA6;\n",
       "      --disabled-fill-color: #AAA;\n",
       "      --disabled-bg-color: #DDD;\n",
       "  }\n",
       "\n",
       "  [theme=dark] .colab-df-quickchart {\n",
       "      --bg-color: #3B4455;\n",
       "      --fill-color: #D2E3FC;\n",
       "      --hover-bg-color: #434B5C;\n",
       "      --hover-fill-color: #FFFFFF;\n",
       "      --disabled-bg-color: #3B4455;\n",
       "      --disabled-fill-color: #666;\n",
       "  }\n",
       "\n",
       "  .colab-df-quickchart {\n",
       "    background-color: var(--bg-color);\n",
       "    border: none;\n",
       "    border-radius: 50%;\n",
       "    cursor: pointer;\n",
       "    display: none;\n",
       "    fill: var(--fill-color);\n",
       "    height: 32px;\n",
       "    padding: 0;\n",
       "    width: 32px;\n",
       "  }\n",
       "\n",
       "  .colab-df-quickchart:hover {\n",
       "    background-color: var(--hover-bg-color);\n",
       "    box-shadow: 0 1px 2px rgba(60, 64, 67, 0.3), 0 1px 3px 1px rgba(60, 64, 67, 0.15);\n",
       "    fill: var(--button-hover-fill-color);\n",
       "  }\n",
       "\n",
       "  .colab-df-quickchart-complete:disabled,\n",
       "  .colab-df-quickchart-complete:disabled:hover {\n",
       "    background-color: var(--disabled-bg-color);\n",
       "    fill: var(--disabled-fill-color);\n",
       "    box-shadow: none;\n",
       "  }\n",
       "\n",
       "  .colab-df-spinner {\n",
       "    border: 2px solid var(--fill-color);\n",
       "    border-color: transparent;\n",
       "    border-bottom-color: var(--fill-color);\n",
       "    animation:\n",
       "      spin 1s steps(1) infinite;\n",
       "  }\n",
       "\n",
       "  @keyframes spin {\n",
       "    0% {\n",
       "      border-color: transparent;\n",
       "      border-bottom-color: var(--fill-color);\n",
       "      border-left-color: var(--fill-color);\n",
       "    }\n",
       "    20% {\n",
       "      border-color: transparent;\n",
       "      border-left-color: var(--fill-color);\n",
       "      border-top-color: var(--fill-color);\n",
       "    }\n",
       "    30% {\n",
       "      border-color: transparent;\n",
       "      border-left-color: var(--fill-color);\n",
       "      border-top-color: var(--fill-color);\n",
       "      border-right-color: var(--fill-color);\n",
       "    }\n",
       "    40% {\n",
       "      border-color: transparent;\n",
       "      border-right-color: var(--fill-color);\n",
       "      border-top-color: var(--fill-color);\n",
       "    }\n",
       "    60% {\n",
       "      border-color: transparent;\n",
       "      border-right-color: var(--fill-color);\n",
       "    }\n",
       "    80% {\n",
       "      border-color: transparent;\n",
       "      border-right-color: var(--fill-color);\n",
       "      border-bottom-color: var(--fill-color);\n",
       "    }\n",
       "    90% {\n",
       "      border-color: transparent;\n",
       "      border-bottom-color: var(--fill-color);\n",
       "    }\n",
       "  }\n",
       "</style>\n",
       "\n",
       "  <script>\n",
       "    async function quickchart(key) {\n",
       "      const quickchartButtonEl =\n",
       "        document.querySelector('#' + key + ' button');\n",
       "      quickchartButtonEl.disabled = true;  // To prevent multiple clicks.\n",
       "      quickchartButtonEl.classList.add('colab-df-spinner');\n",
       "      try {\n",
       "        const charts = await google.colab.kernel.invokeFunction(\n",
       "            'suggestCharts', [key], {});\n",
       "      } catch (error) {\n",
       "        console.error('Error during call to suggestCharts:', error);\n",
       "      }\n",
       "      quickchartButtonEl.classList.remove('colab-df-spinner');\n",
       "      quickchartButtonEl.classList.add('colab-df-quickchart-complete');\n",
       "    }\n",
       "    (() => {\n",
       "      let quickchartButtonEl =\n",
       "        document.querySelector('#df-433d7073-41ec-4a62-92e4-7a2e25309c95 button');\n",
       "      quickchartButtonEl.style.display =\n",
       "        google.colab.kernel.accessAllowed ? 'block' : 'none';\n",
       "    })();\n",
       "  </script>\n",
       "</div>\n",
       "    </div>\n",
       "  </div>\n"
      ],
      "application/vnd.google.colaboratory.intrinsic+json": {
       "type": "dataframe",
       "variable_name": "dataset_for_training",
       "summary": "{\n  \"name\": \"dataset_for_training\",\n  \"rows\": 9471,\n  \"fields\": [\n    {\n      \"column\": \"clientbankpartner_pin\",\n      \"properties\": {\n        \"dtype\": \"number\",\n        \"std\": 103813,\n        \"min\": 1,\n        \"max\": 333515,\n        \"num_unique_values\": 9471,\n        \"samples\": [\n          145198,\n          320018,\n          117828\n        ],\n        \"semantic_type\": \"\",\n        \"description\": \"\"\n      }\n    },\n    {\n      \"column\": \"partner_src_type_ccode\",\n      \"properties\": {\n        \"dtype\": \"number\",\n        \"std\": 1,\n        \"min\": 0,\n        \"max\": 5,\n        \"num_unique_values\": 6,\n        \"samples\": [\n          4,\n          1,\n          2\n        ],\n        \"semantic_type\": \"\",\n        \"description\": \"\"\n      }\n    }\n  ]\n}"
      }
     },
     "metadata": {},
     "execution_count": 156
    }
   ]
  },
  {
   "cell_type": "code",
   "source": [
    "# Создаём новые нужные нам колонки в датасете\n",
    "# cnt - кол-во приглашённых клиентов\n",
    "dataset_for_training['cnt'] = [0] * dataset_for_training.shape[0]\n",
    "# score - вероятность оттока клиента\n",
    "dataset_for_training['score'] = [1] * dataset_for_training.shape[0]\n",
    "# average - среднее кол-во дней между приглашениями\n",
    "dataset_for_training['average'] = [0] * dataset_for_training.shape[0]\n",
    "# med - медианное кол-во дней между приглашениями\n",
    "dataset_for_training['med'] = [0] * dataset_for_training.shape[0]\n",
    "# disp - дисперсия кол-ва дней между приглашениями\n",
    "dataset_for_training['disp'] = [0] * dataset_for_training.shape[0]\n",
    "# offline - время (кол-во дней), прошедшее с последнего приглашения и до конца замера данных\n",
    "dataset_for_training['offline'] = [0] * dataset_for_training.shape[0]\n",
    "# partner_period - время (кол-во дней), которое человек является партнёром Alfa банка\n",
    "dataset_for_training['partner_period'] = [0] * dataset_for_training.shape[0]"
   ],
   "metadata": {
    "id": "yz1z7aZQh-pF"
   },
   "execution_count": 157,
   "outputs": []
  },
  {
   "cell_type": "code",
   "source": [
    "pd.options.mode.chained_assignment = None # Подавляем предупреждения\n",
    "for i in range(dataset_for_training.shape[0]): # Проходимся по всем строкам в датасете для обучения\n",
    "  # Присваиваем в строчках значения, соответствующие текущему партнёру с pin-ом clientbankpartner_pin[i]\n",
    "  dataset_for_training.offline[i] = OFFLINE[dataset_for_training.clientbankpartner_pin[i]]\n",
    "  dataset_for_training.average[i] = AVERAGE[dataset_for_training.clientbankpartner_pin[i]]\n",
    "  dataset_for_training.cnt[i] = CNT[dataset_for_training.clientbankpartner_pin[i]]\n",
    "  dataset_for_training.score[i] = SCORE[dataset_for_training.clientbankpartner_pin[i]]\n",
    "  dataset_for_training.partner_period[i] = PARTNER_TIME[dataset_for_training.clientbankpartner_pin[i]]\n",
    "  dataset_for_training.med[i] = MEDIAN[dataset_for_training.clientbankpartner_pin[i]]\n",
    "  dataset_for_training.disp[i] = DISPERSION[dataset_for_training.clientbankpartner_pin[i]]"
   ],
   "metadata": {
    "id": "9PH6rBTBiAnL"
   },
   "execution_count": null,
   "outputs": []
  },
  {
   "cell_type": "code",
   "source": [
    "dataset_for_training = dataset_for_training.sort_index(axis=1) # Сортируем колонки по названию\n",
    "dataset_for_training = dataset_for_training[dataset_for_training.cnt > 0] # Оставляем только строчки, в которых партнёры пригласили хотя бы 1-го клиента\n",
    "# Приводим индексы к корректному формату\n",
    "dataset_for_training = dataset_for_training.reset_index()\n",
    "dataset_for_training = dataset_for_training.drop(['index'], axis=1)"
   ],
   "metadata": {
    "id": "fF2gXpdpiFez"
   },
   "execution_count": null,
   "outputs": []
  },
  {
   "cell_type": "code",
   "source": [
    "# Создаем из нашего датасета для обучения csv файл\n",
    "dataset_for_training.to_csv('training.csv', index=False)"
   ],
   "metadata": {
    "id": "zLX1GxgmiF8Q"
   },
   "execution_count": null,
   "outputs": []
  },
  {
   "cell_type": "markdown",
   "source": [
    "Датасет для обучения создан\n",
    "\n",
    "---------------------"
   ],
   "metadata": {
    "id": "X_IblYI_hfnK"
   }
  },
  {
   "cell_type": "code",
   "execution_count": null,
   "metadata": {
    "id": "6TkwYniskGvm"
   },
   "outputs": [],
   "source": [
    "# CNT_INVITES - массив, в котором хранится кол-во приведённых клиентов для каждого из партнёров\n",
    "CNT_INVITES = [0] * SIZE\n",
    "# INVITES - массив, в котором для каждого партнёра хранятся pin-ы клиентов, которых он пригласил\n",
    "INVITES = [[] for i in range(SIZE)]\n",
    "# DATES_OF_INVITES - массив, в котором хранятся все даты приглашения новых клиентов для каждого из партнёров\n",
    "DATES_OF_INVITES = [[] for i in range(SIZE)]\n",
    "# OFFLINE - массив, в котором хранится кол-во дней, прошедших с момента последного приглашения и до последнего для замера данных, для каждого из партнёров\n",
    "OFFLINE = [10000000000000000000000] * SIZE\n",
    "HAS_WORKED = [0] * SIZE\n",
    "# AVERAGE - массив, в котором хранится среднее кол-во дней между приглашениями новых клиентов для каждого из партнёров\n",
    "AVERAGE = [0] * SIZE\n",
    "# PARTNER_TIME - массив, в котором хранится кол-во дней, которые человек сотрудничает с Alfa банком, для каждого из партнёров\n",
    "PARTNER_TIME = [0] * SIZE\n",
    "# PARTNER_START - массив, в котором хранится дата начала сотрудничества с Alfа банком для каждого из партнёров\n",
    "PARTNER_START = [''] * SIZE\n",
    "# MEDIAN - массив, в котором хранится медианное значение кол-ва дней между приглашениями новых клиентов для каждого из партнёров\n",
    "MEDIAN = [0] * SIZE\n",
    "# DISPERSION - массив, в котором хранится дисперсия значений кол-ва дней между приглашениями новых клиентов для каждого из партнёров\n",
    "DISPERSION = [0] * SIZE"
   ]
  },
  {
   "cell_type": "code",
   "execution_count": null,
   "metadata": {
    "id": "MwvPz5MMkv1u"
   },
   "outputs": [],
   "source": [
    "# to_del - массив индексов строк, в которых содержатся дубликаты вида (x1, y1), (x2, y2), x1==x2 and y1==y2\n",
    "to_del = [] # Удаляем строки с дубликатами\n",
    "for i in range(dataset_for_predicting.shape[0]): # Проходимся по всем строкам датасета для предсказания\n",
    "  # partner_pin - pin текущего партнёра\n",
    "  partner_pin = dataset_for_predicting.clientbankpartner_pin[i]\n",
    "  # client_pin - pin клиента, которого пригласил текущий партнёр\n",
    "  client_pin = dataset_for_predicting.client_pin[i]\n",
    "  if client_pin in INVITES[partner_pin]: # Если партнёр уже приглашал этого клиента, то нужно удалить текущую строчку\n",
    "    to_del.append(i)\n",
    "  else: # В противном случае запоминаем, что наш партнёр пригласил клиента с pin-ом (client_pin)\n",
    "    INVITES[partner_pin].append(client_pin)\n",
    "for idx in to_del: # Проходимся по всем индексам ненужных строк и удаляем их\n",
    "  dataset_for_predicting = dataset_for_predicting.drop(idx, axis=0)\n",
    "# Возвращаем индексы к корректным значениям\n",
    "dataset_for_predicting = dataset_for_predicting.reset_index()\n",
    "dataset_for_predicting = dataset_for_predicting.drop([\"index\"], axis=1)"
   ]
  },
  {
   "cell_type": "code",
   "execution_count": null,
   "metadata": {
    "id": "qsWMPxS9psB8"
   },
   "outputs": [],
   "source": [
    "for i in range(dataset_for_predicting.shape[0]):\n",
    "  # partner_pin - pin текущего партнёра\n",
    "  partner_pin = dataset_for_predicting.clientbankpartner_pin[i]\n",
    "  # client_pin - pin клиента, которого пригласил текущий партнёр\n",
    "  client_pin = dataset_for_predicting.client_pin[i]\n",
    "  # date_of_becoming_a_partner - дата становления партнёром\n",
    "  date_of_becoming_a_partner = dataset_for_predicting.partnerrolestart_date[i]\n",
    "  # date_of_inviting - дата приглашения партнёром клиента\n",
    "  date_of_inviting = dataset_for_predicting.client_start_date[i]\n",
    "  CNT_INVITES[partner_pin] += 1 # Увеличиваем число приглашённых клиентов нашим партнёром\n",
    "  DATES_OF_INVITES[partner_pin].append(date_of_inviting) # Добавляем текущекму партнёру дату приглашения клиента\n",
    "  # Пробуем обновить значение кол-ва дней \"бездействия\" нашего партнёра\n",
    "  OFFLINE[partner_pin] = min(OFFLINE[partner_pin], (datetime.datetime.strptime('2020-12-01', '%Y-%m-%d') - datetime.datetime.strptime(str(date_of_inviting), '%Y-%m-%d')).days)\n",
    "  # Устанавливаем значение кол-ва дней, которые текущий партнёр сотрудничает с Alfa банком\n",
    "  HAS_WORKED[partner_pin] = (datetime.datetime.strptime('2020-12-01', '%Y-%m-%d') - datetime.datetime.strptime(str(date_of_becoming_a_partner), '%Y-%m-%d')).days"
   ]
  },
  {
   "cell_type": "code",
   "source": [
    "for i in range(dataset_for_predicting.shape[0]):\n",
    "  # partner - pin текущего партнёра\n",
    "  partner = dataset_for_predicting.clientbankpartner_pin[i]\n",
    "  # partner_time - дата начала сотрудничества текущего партнёра с Alfa банком\n",
    "  partner_time = dataset_for_predicting.partnerrolestart_date[i]\n",
    "  PARTNER_START[partner] = partner_time # Устанавливаем дату сотрудничества текущего партнёра с Alfa банком\n",
    "  # Устанавливаем значение кол-ва дней, которые текущий партнёр сотрудничает с Alfa банком\n",
    "  PARTNER_TIME[partner] = (datetime.datetime.strptime('2020-12-01', '%Y-%m-%d') - datetime.datetime.strptime(str(partner_time), '%Y-%m-%d')).days"
   ],
   "metadata": {
    "id": "H8u-MfhJUP0d"
   },
   "execution_count": null,
   "outputs": []
  },
  {
   "cell_type": "code",
   "execution_count": null,
   "metadata": {
    "id": "CqbUbTqtyYFL"
   },
   "outputs": [],
   "source": [
    "# Удаляем из датасета для предсказания больше ненужные колонки\n",
    "dataset_for_predicting = dataset_for_predicting.drop(['client_start_date', 'partnerrolestart_date', 'client_pin'], axis=1)\n",
    "# Удаляем дубликаты\n",
    "dataset_for_predicting = dataset_for_predicting.drop_duplicates(subset='clientbankpartner_pin', inplace=False)\n",
    "# Приводим индексы строк к корректному виду\n",
    "dataset_for_predicting = dataset_for_predicting.reset_index()\n",
    "dataset_for_predicting = dataset_for_predicting.drop(['index'], axis=1)"
   ]
  },
  {
   "cell_type": "code",
   "execution_count": null,
   "metadata": {
    "id": "RwenHynUu-N8"
   },
   "outputs": [],
   "source": [
    "for partner in ALL_PEOPLE: # Проходимся по pin-ам всех партнёров\n",
    "  # DIFFS - массив дней в промежутках между приглашениями новых клиентов текущим партнёром, + в промежутке [начало сотрудничества; первое приглашение] + в промежутке [последние приглашение; конец замера данных]\n",
    "  DIFFS = []\n",
    "  # Располагаем значения кол-ва дней в промежутках в порядке возрастания\n",
    "  DATES_OF_INVITES[partner] = sorted(DATES_OF_INVITES[partner])\n",
    "  # Добавляем кол-во дней в промежутке [начало сотрудничества; первое приглашение]\n",
    "  DIFFS.append((datetime.datetime.strptime(DATES_OF_INVITES[partner][0], '%Y-%m-%d') - datetime.datetime.strptime(PARTNER_START[partner], '%Y-%m-%d')).days)\n",
    "  # Добавляем кол-во дней в промежутке [последние приглашение; конец замера данных]\n",
    "  DIFFS.append((datetime.datetime.strptime('2020-12-01', '%Y-%m-%d') - datetime.datetime.strptime(DATES_OF_INVITES[partner][0], '%Y-%m-%d')).days)\n",
    "  for i in range(1, len(DATES_OF_INVITES[partner])): # Проходимся по датам приглашения новых клиентов и добавляем значения кол-ва дней между ближайщими приглашениями\n",
    "    DIFFS.append((datetime.datetime.strptime(str(DATES_OF_INVITES[partner][i]), '%Y-%m-%d') - datetime.datetime.strptime(str(DATES_OF_INVITES[partner][i - 1]), '%Y-%m-%d')).days)\n",
    "  AVERAGE[partner] = sum(DIFFS) / len(DIFFS) # Считаем среднее значение по кол-ву дней между приглашениями\n",
    "  MEDIAN[partner] = statistics.median(DIFFS) # Считаем медианное значение по кол-ву дней между приглашениями\n",
    "  DISPERSION[partner] = statistics.variance(DIFFS, AVERAGE[partner]) # Считаем дисперсию по кол-ву дней между приглашениями"
   ]
  },
  {
   "cell_type": "code",
   "execution_count": null,
   "metadata": {
    "id": "ytIC0iVilZme"
   },
   "outputs": [],
   "source": [
    "# Приводим\n",
    "# dataset_for_predicting.partner_src_type_ccode = dataset_for_predicting.partner_src_type_ccode.astype(str)"
   ]
  },
  {
   "cell_type": "code",
   "execution_count": null,
   "metadata": {
    "id": "1mQtUXNcpKYe"
   },
   "outputs": [],
   "source": [
    "# Создаём новые нужные нам колонки в датасете\n",
    "\n",
    "# offline - время (кол-во дней), прошедшее с последнего приглашения и до конца замера данных\n",
    "dataset_for_predicting['offline'] = [0] * dataset_for_predicting.shape[0]\n",
    "# average - среднее кол-во дней между приглашениями\n",
    "dataset_for_predicting['average'] = [0] * dataset_for_predicting.shape[0]\n",
    "# cnt - кол-во приглашённых клиентов\n",
    "dataset_for_predicting['cnt'] = [0] * dataset_for_predicting.shape[0]\n",
    "# partner_period - время (кол-во дней), которое человек является партнёром Alfa банка\n",
    "dataset_for_predicting['partner_period'] = [0] * dataset_for_predicting.shape[0]\n",
    "# med - медианное кол-во дней между приглашениями\n",
    "dataset_for_predicting['med'] = [0] * dataset_for_predicting.shape[0]\n",
    "# disp - дисперсия кол-ва дней между приглашениями\n",
    "dataset_for_predicting['disp'] = [0] * dataset_for_predicting.shape[0]"
   ]
  },
  {
   "cell_type": "code",
   "source": [
    "for i in range(dataset_for_predicting.shape[0]): # Проходимся по всем строкам в датасете для предсказания\n",
    "  # Присваиваем в строчках значения, соответствующие текущему партнёру с pin-ом clientbankpartner_pin[i]\n",
    "  dataset_for_predicting.offline[i] = OFFLINE[dataset_for_predicting.clientbankpartner_pin[i]]\n",
    "  dataset_for_predicting.average[i] = AVERAGE[dataset_for_predicting.clientbankpartner_pin[i]]\n",
    "  dataset_for_predicting.cnt[i] = CNT_INVITES[dataset_for_predicting.clientbankpartner_pin[i]]\n",
    "  dataset_for_predicting.partner_period[i] = PARTNER_TIME[dataset_for_predicting.clientbankpartner_pin[i]]\n",
    "  dataset_for_predicting.med[i] = MEDIAN[dataset_for_predicting.clientbankpartner_pin[i]]\n",
    "  dataset_for_predicting.disp[i] = DISPERSION[dataset_for_predicting.clientbankpartner_pin[i]]"
   ],
   "metadata": {
    "id": "eRXd5ype-SyM"
   },
   "execution_count": null,
   "outputs": []
  },
  {
   "cell_type": "code",
   "execution_count": null,
   "metadata": {
    "id": "0xH4SgAg6YJR"
   },
   "outputs": [],
   "source": [
    "# idx_to_keep - массив с индексами строк, которые нам нужно оставить. Оставить нам нужно только те строки, в которых партнёром является человеком для которого намн нужно предсказать вероятность оттока\n",
    "idx_to_keep = []\n",
    "for i in range(dataset_for_predicting.shape[0]): # Проходимся по по всем строкам датасета для предсказаний\n",
    "  # partner - pin текущего партнёра\n",
    "  partner = dataset_for_predicting.clientbankpartner_pin[i]\n",
    "  if partner in submission_example.clientbankpartner_pin.values: # Если pin нашего партнёра встречается в submission_example, то для нашего партнёра нужно будет сделать предсказание\n",
    "    idx_to_keep.append(i)\n",
    "# Оставляем только нужные нам строки\n",
    "dataset_for_predicting = dataset_for_predicting.iloc[idx_to_keep]\n",
    "# Приводим индексы к корректному формату\n",
    "dataset_for_predicting = dataset_for_predicting.reset_index()\n",
    "dataset_for_predicting = dataset_for_predicting.drop(['index'], axis=1)"
   ]
  },
  {
   "cell_type": "code",
   "execution_count": null,
   "metadata": {
    "id": "DvA03Qe05miB"
   },
   "outputs": [],
   "source": [
    "# Сортируем колонки датасета для предсказания по названию\n",
    "dataset_for_predicting = dataset_for_predicting.sort_index(axis=1)"
   ]
  },
  {
   "cell_type": "code",
   "execution_count": null,
   "metadata": {
    "id": "pJjlx1u-xrR7"
   },
   "outputs": [],
   "source": [
    "# Считываем датасет для обучения модели\n",
    "DATA_TRAIN = pd.read_csv('training.csv', sep = ',')"
   ]
  },
  {
   "cell_type": "code",
   "execution_count": null,
   "metadata": {
    "id": "KENS1E8Mxzxb",
    "collapsed": true
   },
   "outputs": [],
   "source": [
    "# Сортируем колонки датасета для обучения по названию\n",
    "DATA_TRAIN = DATA_TRAIN.sort_index(axis=1)"
   ]
  },
  {
   "cell_type": "code",
   "execution_count": null,
   "metadata": {
    "id": "aAIbN34emGYK"
   },
   "outputs": [],
   "source": [
    "# X_pred - датасет для опредсказания без pin-ов партнёров\n",
    "X_pred = dataset_for_predicting.drop(['clientbankpartner_pin'], axis=1)\n",
    "# y_pred - массив значений вероятности оттока партнёров, для которых нам нужно сделать предсказание\n",
    "y_pred = [0] * dataset_for_predicting.shape[0]\n",
    "# RANDOM_SEEDS_1, RANDOM_SEEDS_2, RANDOM_SEEDS_3 - массивы случайных, заранее созданных сидов для тренировки модели\n",
    "RANDOM_SEEDS_1 = [3891800075, 3016415865, 2176061081, 1731419478, 3783895874, 2764739521, 2782060052, 3524179692, 2844149057, 1244701250, 3899862384, 2813020269, 1510783940, 257708917, 2500441839, 128024146, 4035610767, 3541990627, 175914092, 3535216303]\n",
    "RANDOM_SEEDS_2 = [1266929725, 3214219494, 2720626381, 2266809387, 482891602, 978069738, 1175652263, 1309829645, 3403918683, 182045614, 627045617, 1344754375, 813630871, 923267019, 2773042947, 296316750, 3706821871, 1672336920, 2655620765, 2699758462]\n",
    "RANDOM_SEEDS_3 = [1531906963, 262295212, 1782349066, 1500120831, 1676857053, 601432304, 2432272467, 3151521108, 3460296720, 43961157, 899070798, 4100257218, 4169689651, 406556915, 3431974749, 363353800, 3920168246, 1250644752, 1230826994, 348884761]\n",
    "for i in range(len(RANDOM_SEEDS_1)): # Проходимся по индексам массивов с сидами\n",
    "  DATA_TRAIN = shuffle(DATA_TRAIN, random_state=RANDOM_SEEDS_1[i]) # Перемешиваем датасет для обучения, используя сид из 1-го массива\n",
    "\n",
    "  # y - таргет\n",
    "  y = DATA_TRAIN.score\n",
    "  # X - датасет для обучения без указанного таргета\n",
    "  X = DATA_TRAIN.drop(['clientbankpartner_pin', 'score'], axis=1)\n",
    "\n",
    "  # Разбиваем датасет для обучения на датасеты, на которых модель будет тренироваться и на которых будет проверяться на точность\n",
    "  X_train, X_test, y_train, y_test = train_test_split(X, y, test_size=0.25, random_state=RANDOM_SEEDS_2[i])\n",
    "\n",
    "  # Создаём модель\n",
    "  model = CatBoostClassifier(loss_function=\"CrossEntropy\", n_estimators = 5000, eval_metric='AUC', learning_rate=0.008, random_seed=RANDOM_SEEDS_3[i], bootstrap_type=\"Bernoulli\", cat_features=['partner_src_type_ccode'])\n",
    "  # Обучаем её\n",
    "  model.fit(X_train, y_train, eval_set=(X_test, y_test), verbose=100, cat_features=['partner_src_type_ccode'], early_stopping_rounds=400)\n",
    "  # Сохраняем предсказания того, что партнёр \"оттечёт\"\n",
    "  CatBoost_y_pred = model.predict_proba(X_pred)[:, 1]\n",
    "  # Добавляем эти вероятности в y_pred для дальнейшего усреднения\n",
    "  for j in range(len(CatBoost_y_pred)):\n",
    "    y_pred[j] += CatBoost_y_pred[j]\n",
    "# Усредняем наши предсказанные вероятности\n",
    "for i in range(len(y_pred)):\n",
    "  y_pred[i] /= len(RANDOM_SEEDS_1)"
   ]
  },
  {
   "cell_type": "code",
   "execution_count": null,
   "metadata": {
    "id": "9UbNbClMm8Qw"
   },
   "outputs": [],
   "source": [
    "# FROM_PARTNER_TO_SCORE - массив, который для каждого pin-а партнёра хранит вероятность его оттока\n",
    "FROM_PARTNER_TO_SCORE = [0] * SIZE\n",
    "for i in range(len(y_pred)): # Проходимся по всем предсказаниям и сопоставляем партнёру его вероятность оттока\n",
    "  FROM_PARTNER_TO_SCORE[dataset_for_predicting.clientbankpartner_pin[i]] = y_pred[i]"
   ]
  },
  {
   "cell_type": "code",
   "execution_count": null,
   "metadata": {
    "id": "cLUFMg1enOYK"
   },
   "outputs": [],
   "source": [
    "# ouput - наш ответ\n",
    "output = submission_example[:] # Делаем копию submission_example, чтобы записать в пропусках вероятности\n",
    "for i in range(output.shape[0]): # Проходимся по всем строкам ответа и указываем партнёру его вероятность оттока\n",
    "  output.score[i] = FROM_PARTNER_TO_SCORE[output.clientbankpartner_pin[i]]\n",
    "# формируем csv файл из output\n",
    "output.to_csv('output.csv', index=False)"
   ]
  }
 ],
 "metadata": {
  "colab": {
   "provenance": []
  },
  "kernelspec": {
   "display_name": "Python 3",
   "name": "python3"
  },
  "language_info": {
   "codemirror_mode": {
    "name": "ipython",
    "version": 3
   },
   "file_extension": ".py",
   "mimetype": "text/x-python",
   "name": "python",
   "nbconvert_exporter": "python",
   "pygments_lexer": "ipython3",
   "version": "3.10.6"
  }
 },
 "nbformat": 4,
 "nbformat_minor": 0
}
